{
 "cells": [
  {
   "cell_type": "code",
   "execution_count": 1,
   "id": "480a8cc6",
   "metadata": {},
   "outputs": [],
   "source": [
    "#import Postgre Packeage\n",
    "import psycopg2 as ps"
   ]
  },
  {
   "cell_type": "code",
   "execution_count": 2,
   "id": "8698c566",
   "metadata": {},
   "outputs": [],
   "source": [
    "#create connection to Udacity Database\n",
    "try:\n",
    "    conn = ps.connect(\"host=127.0.0.1 dbname=udacity user=postgres password=postgre\")\n",
    "except ps.Error as e:\n",
    "    print(\"Error : Connect to Udacity DataBase\")\n",
    "    print(e)"
   ]
  },
  {
   "cell_type": "code",
   "execution_count": 3,
   "id": "60efd8b4",
   "metadata": {},
   "outputs": [],
   "source": [
    "# Create cursor to query sql and set session to auto commit \n",
    "try:\n",
    "    cur = conn.cursor()\n",
    "    conn.set_session(autocommit=True)\n",
    "except ps.Error as e:\n",
    "    print(\"Error : Create Cursor\")\n",
    "    print(e)"
   ]
  },
  {
   "cell_type": "code",
   "execution_count": 4,
   "id": "4a2a22ec",
   "metadata": {},
   "outputs": [],
   "source": [
    "# Create Table \n",
    "try:\n",
    "    #first drop table\n",
    "    cur.execute(\"drop table if exists music_library;\")\n",
    "    #create table\n",
    "    cur.execute(\"\"\"\n",
    "        create table if not exists music_library\n",
    "        (\n",
    "            album_id int,\n",
    "            album_name varchar,\n",
    "            artist_name varchar,\n",
    "            year int,\n",
    "            songs text[]\n",
    "        )\n",
    "    \"\"\")\n",
    "except ps.Error as e:\n",
    "    print(\"Error : Creating music_library Table\")\n",
    "    print(e)"
   ]
  },
  {
   "cell_type": "code",
   "execution_count": 5,
   "id": "7b945b45",
   "metadata": {},
   "outputs": [],
   "source": [
    "# insert some Data\n",
    "try:\n",
    "    cur.execute(\"\"\"\n",
    "        insert into music_library (album_id,album_name,artist_name,year,songs)\n",
    "                    values(%s,%s,%s,%s,%s)\n",
    "    \"\"\",(1,\"Rubber Soul\",\"The Beatles\",1965,[\"Michelle\",\"Think For Yourself\",\"In My Life\"]))\n",
    "except ps.Error as e:\n",
    "    print(\"Error : Inserting Row\")\n",
    "    print(e)"
   ]
  },
  {
   "cell_type": "code",
   "execution_count": 6,
   "id": "c6c9cef6",
   "metadata": {},
   "outputs": [],
   "source": [
    "# insert some data\n",
    "try:\n",
    "    cur.execute(\"\"\"\n",
    "        insert into music_library (album_id,album_name,artist_name,year,songs)\n",
    "                    values(%s,%s,%s,%s,%s)\n",
    "    \"\"\",(2,\"Let It Be\",\"The Beatles\",1970,[\"Let It Be\",\"Across The Universe\"]))\n",
    "except ps.Error as e:\n",
    "    print(\"Error : inserting Row\")\n",
    "    print(e)"
   ]
  },
  {
   "cell_type": "code",
   "execution_count": 7,
   "id": "82c102c0",
   "metadata": {},
   "outputs": [
    {
     "name": "stdout",
     "output_type": "stream",
     "text": [
      "(1, 'Rubber Soul', 'The Beatles', 1965, ['Michelle', 'Think For Yourself', 'In My Life'])\n",
      "(2, 'Let It Be', 'The Beatles', 1970, ['Let It Be', 'Across The Universe'])\n"
     ]
    }
   ],
   "source": [
    "#select data \n",
    "try:\n",
    "    cur.execute(\"select * from music_library\")\n",
    "except ps.Error as e:\n",
    "    print(\"Error : Select Data \")\n",
    "    print(e)\n",
    "row = cur.fetchone()\n",
    "while row:\n",
    "    print(row)\n",
    "    row = cur.fetchone()"
   ]
  },
  {
   "cell_type": "markdown",
   "id": "a302e34c",
   "metadata": {},
   "source": [
    "# Moving To First Normal Form (1NF)"
   ]
  },
  {
   "cell_type": "code",
   "execution_count": 8,
   "id": "8daf88b8",
   "metadata": {},
   "outputs": [],
   "source": [
    "# Create music_library2 table\n",
    "try:\n",
    "    #first drop table\n",
    "    cur.execute(\"drop table if exists music_library2;\")\n",
    "    cur.execute(\"\"\"\n",
    "        create table if not exists music_library2\n",
    "        (\n",
    "            album_id int,\n",
    "            album_name varchar,\n",
    "            artist_name varchar,\n",
    "            year int,\n",
    "            song_name varchar\n",
    "        )\n",
    "    \"\"\")\n",
    "except ps.Error as e:\n",
    "    print(\"Error : Creating Table \")\n",
    "    print(e)"
   ]
  },
  {
   "cell_type": "code",
   "execution_count": 9,
   "id": "e2eba709",
   "metadata": {},
   "outputs": [],
   "source": [
    "#insert Some Data\n",
    "try:\n",
    "    cur.execute(\"\"\"\n",
    "        insert into music_library2 (album_id,album_name,artist_name,year,song_name)\n",
    "                    values(%s,%s,%s,%s,%s)\n",
    "    \"\"\",(1,\"Rubber Soul\",\"The Beatles\",1965,\"Michelle\"))\n",
    "except ps.Error as e:\n",
    "    print(\"Error : Inserting Row\")\n",
    "    print(e)\n",
    "\n",
    "try:\n",
    "    cur.execute(\"\"\"\n",
    "        insert into music_library2 (album_id,album_name,artist_name,year,song_name)\n",
    "                    values(%s,%s,%s,%s,%s)\n",
    "    \"\"\",(1,\"Rubber Soul\",\"The Beatles\",1965,\"Think For Yourself\"))\n",
    "except ps.Error as e:\n",
    "    print(\"Error : Inserting Row\")\n",
    "    print(e)\n",
    "    \n",
    "try:\n",
    "    cur.execute(\"\"\"\n",
    "        insert into music_library2 (album_id,album_name,artist_name,year,song_name)\n",
    "                    values(%s,%s,%s,%s,%s)\n",
    "    \"\"\",(1,\"Rubber Soul\",\"The Beatles\",1965,\"In My Life\"))\n",
    "except ps.Error as e:\n",
    "    print(\"Error : Inserting Row\")\n",
    "    print(e)    "
   ]
  },
  {
   "cell_type": "code",
   "execution_count": 10,
   "id": "cb4a3090",
   "metadata": {},
   "outputs": [],
   "source": [
    "# insert some data\n",
    "try:\n",
    "    cur.execute(\"\"\"\n",
    "        insert into music_library2 (album_id,album_name,artist_name,year,song_name)\n",
    "                    values(%s,%s,%s,%s,%s)\n",
    "    \"\"\",(2,\"Let It Be\",\"The Beatles\",1970,\"Let It Be\"))\n",
    "except ps.Error as e:\n",
    "    print(\"Error : inserting Row\")\n",
    "    print(e)\n",
    "\n",
    "try:\n",
    "    cur.execute(\"\"\"\n",
    "        insert into music_library2 (album_id,album_name,artist_name,year,song_name)\n",
    "                    values(%s,%s,%s,%s,%s)\n",
    "    \"\"\",(2,\"Let It Be\",\"The Beatles\",1970,\"Across The Universe\"))\n",
    "except ps.Error as e:\n",
    "    print(\"Error : inserting Row\")\n",
    "    print(e)    "
   ]
  },
  {
   "cell_type": "code",
   "execution_count": 11,
   "id": "f1b3243b",
   "metadata": {},
   "outputs": [
    {
     "name": "stdout",
     "output_type": "stream",
     "text": [
      "(1, 'Rubber Soul', 'The Beatles', 1965, 'Michelle')\n",
      "(1, 'Rubber Soul', 'The Beatles', 1965, 'Think For Yourself')\n",
      "(1, 'Rubber Soul', 'The Beatles', 1965, 'In My Life')\n",
      "(2, 'Let It Be', 'The Beatles', 1970, 'Let It Be')\n",
      "(2, 'Let It Be', 'The Beatles', 1970, 'Across The Universe')\n"
     ]
    }
   ],
   "source": [
    "# Select Data \n",
    "try:\n",
    "    cur.execute(\"select * from music_library2\")\n",
    "except ps.Error as e:\n",
    "    print(\"Error : Select Data\")\n",
    "    print(e)\n",
    "row = cur.fetchone()\n",
    "while row:\n",
    "    print(row)\n",
    "    row = cur.fetchone()"
   ]
  },
  {
   "cell_type": "markdown",
   "id": "75f6df63",
   "metadata": {},
   "source": [
    "# Moving To Second Normal Form (2NF)"
   ]
  },
  {
   "cell_type": "code",
   "execution_count": 12,
   "id": "adc8249d",
   "metadata": {},
   "outputs": [],
   "source": [
    "# Create Album_Library Table\n",
    "try:\n",
    "    #first drop table\n",
    "    cur.execute(\"drop table if exists album_library;\")\n",
    "    cur.execute(\"\"\"\n",
    "        create table if not exists album_library\n",
    "        (\n",
    "            album_id int,\n",
    "            album_name varchar,\n",
    "            artist_name varchar,\n",
    "            year int\n",
    "        )\n",
    "    \"\"\")\n",
    "except ps.Error as e:\n",
    "    print(\"Error : Creating Album Library Table\")\n",
    "    print(e)"
   ]
  },
  {
   "cell_type": "code",
   "execution_count": 13,
   "id": "27bd8777",
   "metadata": {},
   "outputs": [],
   "source": [
    "# Create song_library Table\n",
    "try:\n",
    "    #first drop table\n",
    "    cur.execute(\"drop table if exists song_library;\")\n",
    "    cur.execute(\"\"\"\n",
    "        create table if not exists song_library\n",
    "        (\n",
    "            song_id int,\n",
    "            album_id int,\n",
    "            song_name varchar\n",
    "        )\n",
    "    \"\"\")\n",
    "except ps.Error as e:\n",
    "    print(\"Error : Creating song_library Table\")\n",
    "    print(e)"
   ]
  },
  {
   "cell_type": "code",
   "execution_count": 14,
   "id": "fab1b9c1",
   "metadata": {},
   "outputs": [],
   "source": [
    "#Inserting Some Data To Album_library\n",
    "try:\n",
    "    cur.execute(\"\"\"\n",
    "        insert into album_library (album_id,album_name,artist_name,year)\n",
    "                    values(%s,%s,%s,%s)\n",
    "    \"\"\",(1,\"Rubber Soul\",\"The Beatles\",1965))\n",
    "except ps.Error as e:\n",
    "    print(\"Error : Inserting Row\")\n",
    "    print(e)\n",
    "    \n",
    "try:\n",
    "    cur.execute(\"\"\"\n",
    "        insert into album_library (album_id,album_name,artist_name,year)\n",
    "                    values(%s,%s,%s,%s)\n",
    "    \"\"\",(2,\"Let It Be\",\"The Beatles\",1970))\n",
    "except ps.Error as e:\n",
    "    print(\"Error : inserting Row\")\n",
    "    print(e)       "
   ]
  },
  {
   "cell_type": "code",
   "execution_count": 15,
   "id": "58063e2b",
   "metadata": {},
   "outputs": [
    {
     "name": "stdout",
     "output_type": "stream",
     "text": [
      "(1, 'Rubber Soul', 'The Beatles', 1965)\n",
      "(2, 'Let It Be', 'The Beatles', 1970)\n"
     ]
    }
   ],
   "source": [
    "#select Some Album Data \n",
    "try:\n",
    "    cur.execute(\"select * from album_library\")\n",
    "except ps.Error as e:\n",
    "    print(\"Error : Select album Data \")\n",
    "    print(e)\n",
    "    \n",
    "row = cur.fetchone()\n",
    "while row:\n",
    "    print(row)\n",
    "    row = cur.fetchone()"
   ]
  },
  {
   "cell_type": "code",
   "execution_count": 16,
   "id": "21697801",
   "metadata": {},
   "outputs": [],
   "source": [
    "#insert song data to song_library table\n",
    "try:\n",
    "    cur.execute(\"\"\"\n",
    "        insert into song_library (song_id,album_id,song_name)\n",
    "                    values(%s,%s,%s)\n",
    "    \"\"\",(1,1,\"Michelle\"))\n",
    "except ps.Error as e:\n",
    "    print(\"Error : Inserting Row\")\n",
    "    print(e)\n",
    "\n",
    "try:\n",
    "    cur.execute(\"\"\"\n",
    "        insert into song_library (song_id,album_id,song_name)\n",
    "                    values(%s,%s,%s)\n",
    "    \"\"\",(2,1,\"Think For Yourself\"))\n",
    "except ps.Error as e:\n",
    "    print(\"Error : Inserting Row\")\n",
    "    print(e)\n",
    "    \n",
    "try:\n",
    "    cur.execute(\"\"\"\n",
    "        insert into song_library (song_id,album_id,song_name)\n",
    "                    values(%s,%s,%s)\n",
    "    \"\"\",(3,1,\"In My Life\"))\n",
    "except ps.Error as e:\n",
    "    print(\"Error : Inserting Row\")\n",
    "    print(e) \n",
    "    \n",
    "    \n",
    "try:\n",
    "    cur.execute(\"\"\"\n",
    "         insert into song_library (song_id,album_id,song_name)\n",
    "                    values(%s,%s,%s)\n",
    "    \"\"\",(4,2,\"Let It Be\"))\n",
    "except ps.Error as e:\n",
    "    print(\"Error : inserting Row\")\n",
    "    print(e)\n",
    "\n",
    "try:\n",
    "    cur.execute(\"\"\"\n",
    "        insert into song_library (song_id,album_id,song_name)\n",
    "                    values(%s,%s,%s)\n",
    "    \"\"\",(5,2,\"Across The Universe\"))\n",
    "except ps.Error as e:\n",
    "    print(\"Error : inserting Row\")\n",
    "    print(e)      "
   ]
  },
  {
   "cell_type": "code",
   "execution_count": 17,
   "id": "ebf341d4",
   "metadata": {},
   "outputs": [
    {
     "name": "stdout",
     "output_type": "stream",
     "text": [
      "(1, 1, 'Michelle')\n",
      "(2, 1, 'Think For Yourself')\n",
      "(3, 1, 'In My Life')\n",
      "(4, 2, 'Let It Be')\n",
      "(5, 2, 'Across The Universe')\n"
     ]
    }
   ],
   "source": [
    "#select some data from song_library Table\n",
    "try:\n",
    "    cur.execute(\"select * from song_library\")\n",
    "except ps.Error as e:\n",
    "    print(\"Error : select data\")\n",
    "    print(e)\n",
    "row = cur.fetchone()\n",
    "while row:\n",
    "    print(row)\n",
    "    row = cur.fetchone()\n",
    "    "
   ]
  },
  {
   "cell_type": "code",
   "execution_count": 18,
   "id": "0707f799",
   "metadata": {
    "scrolled": true
   },
   "outputs": [
    {
     "name": "stdout",
     "output_type": "stream",
     "text": [
      "(1, 'Rubber Soul', 'The Beatles', 1965, 1, 1, 'Michelle')\n",
      "(1, 'Rubber Soul', 'The Beatles', 1965, 2, 1, 'Think For Yourself')\n",
      "(1, 'Rubber Soul', 'The Beatles', 1965, 3, 1, 'In My Life')\n",
      "(2, 'Let It Be', 'The Beatles', 1970, 4, 2, 'Let It Be')\n",
      "(2, 'Let It Be', 'The Beatles', 1970, 5, 2, 'Across The Universe')\n"
     ]
    }
   ],
   "source": [
    "#Select By Join \n",
    "try:\n",
    "    cur.execute(\"\"\"\n",
    "        select * \n",
    "        from album_library\n",
    "        join song_library\n",
    "        on album_library.album_id = song_library.album_id \n",
    "    \"\"\")\n",
    "except ps.Error as e:\n",
    "    print(\"Error : Select Data \")\n",
    "    print(e)\n",
    "row = cur.fetchone()\n",
    "while row:\n",
    "    print(row)\n",
    "    row = cur.fetchone()"
   ]
  },
  {
   "cell_type": "markdown",
   "id": "10ec9ae6",
   "metadata": {},
   "source": [
    "# Moving To Third Normal Form (3NF)"
   ]
  },
  {
   "cell_type": "code",
   "execution_count": 36,
   "id": "754a2396",
   "metadata": {},
   "outputs": [],
   "source": [
    "#Create song_library2 Table\n",
    "try:\n",
    "    #First Drop Table\n",
    "    cur.execute(\"drop table if exists album_library2;\")\n",
    "    #Creaet Table\n",
    "    cur.execute(\"\"\"\n",
    "            create table if not exists album_library2\n",
    "            (\n",
    "                song_id int,\n",
    "                album_id int,\n",
    "                song_name varchar\n",
    "            )\n",
    "        \"\"\")\n",
    "    \n",
    "except ps.Error as e:\n",
    "    print(\"Error: Create song_library2 Table\")\n",
    "    print(e)\n",
    "#Create song_library2 Table\n",
    "try:\n",
    "    #First Drop Table\n",
    "    cur.execute(\"drop table if exists album_library2;\")\n",
    "    #Creaet Table\n",
    "    cur.execute(\"\"\"\n",
    "        create table if not exists album_library2\n",
    "        (\n",
    "            album_id int,\n",
    "            album_name varchar,\n",
    "            artist_id int,\n",
    "            year int\n",
    "        )\n",
    "    \"\"\")\n",
    "    \n",
    "except ps.Error as e:\n",
    "    print(\"Error: Create song_library2 Table\")\n",
    "    print(e) \n",
    "    \n",
    "#Create atist_library Table    \n",
    "try:\n",
    "    #First Drop Table\n",
    "    cur.execute(\"drop table if exists artist_library;\")\n",
    "    #Creaet Table\n",
    "    cur.execute(\"\"\"\n",
    "        create table if not exists artist_library\n",
    "        (\n",
    "            artist_id int,\n",
    "            artist_name varchar\n",
    "        )\n",
    "    \"\"\")\n",
    "    \n",
    "except ps.Error as e:\n",
    "    print(\"Error: Create atist_library Table\")\n",
    "    print(e)      \n",
    " "
   ]
  },
  {
   "cell_type": "code",
   "execution_count": 37,
   "id": "0270fd61",
   "metadata": {},
   "outputs": [],
   "source": [
    "#insert song data to song_library2 table\n",
    "try:\n",
    "    cur.execute(\"\"\"\n",
    "        insert into song_library2 (song_id,album_id,song_name)\n",
    "                    values(%s,%s,%s)\n",
    "    \"\"\",(1,1,\"Michelle\"))\n",
    "except ps.Error as e:\n",
    "    print(\"Error : Inserting Row\")\n",
    "    print(e)\n",
    "\n",
    "try:\n",
    "    cur.execute(\"\"\"\n",
    "        insert into song_library2 (song_id,album_id,song_name)\n",
    "                    values(%s,%s,%s)\n",
    "    \"\"\",(2,1,\"Think For Yourself\"))\n",
    "except ps.Error as e:\n",
    "    print(\"Error : Inserting Row\")\n",
    "    print(e)\n",
    "    \n",
    "try:\n",
    "    cur.execute(\"\"\"\n",
    "        insert into song_library2 (song_id,album_id,song_name)\n",
    "                    values(%s,%s,%s)\n",
    "    \"\"\",(3,1,\"In My Life\"))\n",
    "except ps.Error as e:\n",
    "    print(\"Error : Inserting Row\")\n",
    "    print(e) \n",
    "    \n",
    "    \n",
    "try:\n",
    "    cur.execute(\"\"\"\n",
    "         insert into song_library2 (song_id,album_id,song_name)\n",
    "                    values(%s,%s,%s)\n",
    "    \"\"\",(4,2,\"Let It Be\"))\n",
    "except ps.Error as e:\n",
    "    print(\"Error : inserting Row\")\n",
    "    print(e)\n",
    "\n",
    "try:\n",
    "    cur.execute(\"\"\"\n",
    "        insert into song_library2 (song_id,album_id,song_name)\n",
    "                    values(%s,%s,%s)\n",
    "    \"\"\",(5,2,\"Across The Universe\"))\n",
    "except ps.Error as e:\n",
    "    print(\"Error : inserting Row\")\n",
    "    print(e)      "
   ]
  },
  {
   "cell_type": "code",
   "execution_count": 38,
   "id": "bf8b1cac",
   "metadata": {},
   "outputs": [],
   "source": [
    "#Inserting Some Data To album_library2\n",
    "try:\n",
    "    cur.execute(\"\"\"\n",
    "        insert into album_library2 (album_id,album_name,artist_id,year)\n",
    "                    values(%s,%s,%s,%s)\n",
    "    \"\"\",(1,\"Rubber Soul\",1,1965))\n",
    "except ps.Error as e:\n",
    "    print(\"Error : Inserting Row\")\n",
    "    print(e)\n",
    "    \n",
    "try:\n",
    "    cur.execute(\"\"\"\n",
    "        insert into album_library2 (album_id,album_name,artist_id,year)\n",
    "                    values(%s,%s,%s,%s)\n",
    "    \"\"\",(2,\"Let It Be\",1,1970))\n",
    "except ps.Error as e:\n",
    "    print(\"Error : inserting Row\")\n",
    "    print(e)       "
   ]
  },
  {
   "cell_type": "code",
   "execution_count": 39,
   "id": "7f02c7ca",
   "metadata": {},
   "outputs": [],
   "source": [
    "#Inserting Some Data To atist_library\n",
    "try:\n",
    "    cur.execute(\"\"\"\n",
    "        insert into artist_library (artist_id,artist_name)\n",
    "                    values(%s,%s)\n",
    "    \"\"\",(1,\"The Beatles\"))\n",
    "except ps.Error as e:\n",
    "    print(\"Error : Inserting Row\")\n",
    "    print(e)"
   ]
  },
  {
   "cell_type": "code",
   "execution_count": 40,
   "id": "eea50c5d",
   "metadata": {},
   "outputs": [
    {
     "name": "stdout",
     "output_type": "stream",
     "text": [
      "\n",
      "Table : Album_library2\n",
      "\n",
      "(1, 'Rubber Soul', 1, 1965)\n",
      "(2, 'Let It Be', 1, 1970)\n",
      "\n",
      "Table : song_library2\n",
      "\n",
      "(1, 1, 'Michelle')\n",
      "(2, 1, 'Think For Yourself')\n",
      "(3, 1, 'In My Life')\n",
      "(4, 2, 'Let It Be')\n",
      "(5, 2, 'Across The Universe')\n",
      "(1, 1, 'Michelle')\n",
      "(2, 1, 'Think For Yourself')\n",
      "(3, 1, 'In My Life')\n",
      "(4, 2, 'Let It Be')\n",
      "(5, 2, 'Across The Universe')\n",
      "\n",
      "Table : atist_library\n",
      "\n",
      "(1, 'The Beatles')\n"
     ]
    }
   ],
   "source": [
    "print(\"\\nTable : Album_library2\\n\")\n",
    "#select some data from song_library Table\n",
    "try:\n",
    "    cur.execute(\"select * from album_library2\")\n",
    "except ps.Error as e:\n",
    "    print(\"Error : select data\")\n",
    "    print(e)\n",
    "row = cur.fetchone()\n",
    "while row:\n",
    "    print(row)\n",
    "    row = cur.fetchone()\n",
    "\n",
    "print(\"\\nTable : song_library2\\n\")\n",
    "\n",
    "#select some data from song_library Table\n",
    "try:\n",
    "    cur.execute(\"select * from song_library2\")\n",
    "except ps.Error as e:\n",
    "    print(\"Error : select data\")\n",
    "    print(e)\n",
    "row = cur.fetchone()\n",
    "while row:\n",
    "    print(row)\n",
    "    row = cur.fetchone()    \n",
    "    \n",
    "print(\"\\nTable : atist_library\\n\")\n",
    "\n",
    "#select some data from artist_library Table\n",
    "try:\n",
    "    cur.execute(\"select * from artist_library\")\n",
    "except ps.Error as e:\n",
    "    print(\"Error : select data\")\n",
    "    print(e)\n",
    "row = cur.fetchone()\n",
    "while row:\n",
    "    print(row)\n",
    "    row = cur.fetchone()       "
   ]
  },
  {
   "cell_type": "code",
   "execution_count": 42,
   "id": "96d38512",
   "metadata": {},
   "outputs": [
    {
     "name": "stdout",
     "output_type": "stream",
     "text": [
      "(1, 'The Beatles', 1, 'Rubber Soul', 1, 1965, 1, 1, 'Michelle')\n",
      "(1, 'The Beatles', 1, 'Rubber Soul', 1, 1965, 2, 1, 'Think For Yourself')\n",
      "(1, 'The Beatles', 1, 'Rubber Soul', 1, 1965, 3, 1, 'In My Life')\n",
      "(1, 'The Beatles', 1, 'Rubber Soul', 1, 1965, 1, 1, 'Michelle')\n",
      "(1, 'The Beatles', 1, 'Rubber Soul', 1, 1965, 2, 1, 'Think For Yourself')\n",
      "(1, 'The Beatles', 1, 'Rubber Soul', 1, 1965, 3, 1, 'In My Life')\n",
      "(1, 'The Beatles', 2, 'Let It Be', 1, 1970, 4, 2, 'Let It Be')\n",
      "(1, 'The Beatles', 2, 'Let It Be', 1, 1970, 4, 2, 'Let It Be')\n",
      "(1, 'The Beatles', 2, 'Let It Be', 1, 1970, 5, 2, 'Across The Universe')\n",
      "(1, 'The Beatles', 2, 'Let It Be', 1, 1970, 5, 2, 'Across The Universe')\n"
     ]
    }
   ],
   "source": [
    "try:\n",
    "    cur.execute(\"\"\"\n",
    "        select * \n",
    "        from atist_library\n",
    "        join album_library2\n",
    "        on atist_library.artist_id = album_library2.artist_id\n",
    "        join song_library2\n",
    "        on album_library2.album_id = song_library2.album_id\n",
    "    \"\"\")\n",
    "except ps.Error as e:\n",
    "    print(\"Error : select data\")\n",
    "    print(e)\n",
    "row = cur.fetchone()\n",
    "while row:\n",
    "    print(row)\n",
    "    row = cur.fetchone()      "
   ]
  },
  {
   "cell_type": "markdown",
   "id": "ba9b51ce",
   "metadata": {},
   "source": [
    "# Done We Have Normalized Our Dataset"
   ]
  },
  {
   "cell_type": "code",
   "execution_count": 43,
   "id": "7b3d509b",
   "metadata": {},
   "outputs": [],
   "source": [
    "#Drop All Tables\n",
    "try:\n",
    "    cur.execute(\"drop table album_library \")\n",
    "except ps.Error as e:\n",
    "    print(\"Error : Drop Table  album_library \")\n",
    "    \n",
    "try:\n",
    "    cur.execute(\"drop table album_library2 \")\n",
    "except ps.Error as e:\n",
    "    print(\"Error : Drop Table  album_library2 \")   \n",
    "    \n",
    "try:\n",
    "    cur.execute(\"drop table artist_library \")\n",
    "except ps.Error as e:\n",
    "    print(\"Error : Drop Table  artist_library \")   \n",
    "    \n",
    "try:\n",
    "    cur.execute(\"drop table music_library \")\n",
    "except ps.Error as e:\n",
    "    print(\"Error : Drop Table  music_library \")  \n",
    "    \n",
    "try:\n",
    "    cur.execute(\"drop table music_library2 \")\n",
    "except ps.Error as e:\n",
    "    print(\"Error : Drop Table  music_library2 \")  \n",
    "    \n",
    "try:\n",
    "    cur.execute(\"drop table song_library \")\n",
    "except ps.Error as e:\n",
    "    print(\"Error : Drop Table  song_library \")    \n",
    "    \n",
    "try:\n",
    "    cur.execute(\"drop table song_library2 \")\n",
    "except ps.Error as e:\n",
    "    print(\"Error : Drop Table  song_library2 \")   \n",
    "   "
   ]
  },
  {
   "cell_type": "code",
   "execution_count": null,
   "id": "987e46ec",
   "metadata": {},
   "outputs": [],
   "source": [
    "# Shutdown cusror and connection"
   ]
  }
 ],
 "metadata": {
  "kernelspec": {
   "display_name": "Python 3",
   "language": "python",
   "name": "python3"
  },
  "language_info": {
   "codemirror_mode": {
    "name": "ipython",
    "version": 3
   },
   "file_extension": ".py",
   "mimetype": "text/x-python",
   "name": "python",
   "nbconvert_exporter": "python",
   "pygments_lexer": "ipython3",
   "version": "3.8.8"
  }
 },
 "nbformat": 4,
 "nbformat_minor": 5
}
