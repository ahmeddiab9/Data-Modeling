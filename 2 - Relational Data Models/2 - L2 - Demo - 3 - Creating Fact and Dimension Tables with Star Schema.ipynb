{
 "cells": [
  {
   "cell_type": "code",
   "execution_count": 2,
   "id": "eeaf5884",
   "metadata": {},
   "outputs": [],
   "source": [
    "#import library\n",
    "import psycopg2 as ps"
   ]
  },
  {
   "cell_type": "code",
   "execution_count": 3,
   "id": "dbea9989",
   "metadata": {},
   "outputs": [],
   "source": [
    "#create connection to database \n",
    "try:\n",
    "    conn = ps.connect(\"host=127.0.0.1 dbname=udacity user=postgres password=postgre\")\n",
    "except ps.Error as e:\n",
    "    print(\"Error : Connect to DataBase\")\n",
    "    print(e)"
   ]
  },
  {
   "cell_type": "code",
   "execution_count": 4,
   "id": "053f8803",
   "metadata": {},
   "outputs": [],
   "source": [
    "conn.set_session(autocommit=True)"
   ]
  },
  {
   "cell_type": "code",
   "execution_count": 5,
   "id": "27c6d192",
   "metadata": {},
   "outputs": [],
   "source": [
    "#create cursor to execute query\n",
    "cur = conn.cursor()"
   ]
  },
  {
   "cell_type": "markdown",
   "id": "a5769421",
   "metadata": {},
   "source": [
    "####  create the Fact Table and insert the data into the table"
   ]
  },
  {
   "cell_type": "code",
   "execution_count": 7,
   "id": "2f45c047",
   "metadata": {},
   "outputs": [],
   "source": [
    "# Create customer_transactions Table\n",
    "try:\n",
    "    cur.execute(\"create table if not exists customer_transactions (customer_id int,store_id int,spent numeric)\")\n",
    "except ps.Error as e :\n",
    "    print(\"Error: Issue creating customer_transactions table\")\n",
    "    print(e)"
   ]
  },
  {
   "cell_type": "code",
   "execution_count": 8,
   "id": "143b3350",
   "metadata": {},
   "outputs": [],
   "source": [
    "#insert into customer_transactions table\n",
    "try:\n",
    "    cur.execute(\"insert into customer_transactions(customer_id,store_id,spent)\\\n",
    "                  values (%s,%s,%s)\",(1,1,20.50))\n",
    "except ps.Error as e:\n",
    "    print(\"Error : Inserting Error\")\n",
    "\n",
    "try:\n",
    "    cur.execute(\"insert into customer_transactions(customer_id,store_id,spent)\\\n",
    "                 values (%s,%s,%s)\",(2,1,35.21))\n",
    "except ps.Error as e:\n",
    "    print(\"Error : Inserting Error\")\n",
    "    print(e)"
   ]
  },
  {
   "cell_type": "markdown",
   "id": "e8f5df8e",
   "metadata": {},
   "source": [
    "#### create our Dimension Tables and insert data into those tables."
   ]
  },
  {
   "cell_type": "code",
   "execution_count": 10,
   "id": "f2481e25",
   "metadata": {},
   "outputs": [],
   "source": [
    "# Creata items_purchased Table\n",
    "try:\n",
    "    cur.execute(\"create table if not exists items_purchased (customer_id int,item_number int,item_name varchar);\")\n",
    "except ps.Error as e:\n",
    "    print(\"Error : Creating items_purchased Table\")\n",
    "    print(e)"
   ]
  },
  {
   "cell_type": "code",
   "execution_count": 12,
   "id": "115a7894",
   "metadata": {},
   "outputs": [],
   "source": [
    "#insert into items_purchased table\n",
    "try:\n",
    "    cur.execute(\"insert into items_purchased (customer_id,item_number,item_name)\\\n",
    "                 values (%s,%s,%s)\", (1, 1, \"Rubber Soul\"))\n",
    "except ps.Error as e:\n",
    "    print(\"Error : Inserting Rows\")\n",
    "\n",
    "try:\n",
    "    cur.execute(\"insert into items_purchased (customer_id,item_number,item_name)\\\n",
    "                 values (%s,%s,%s)\",(2, 3, \"Let It Be\"))\n",
    "except ps.Error as e:\n",
    "    print(\"Error: Insertin Rows\")\n",
    "    print(e)"
   ]
  },
  {
   "cell_type": "code",
   "execution_count": 15,
   "id": "92b0cc46",
   "metadata": {},
   "outputs": [],
   "source": [
    "#create store Table\n",
    "try:\n",
    "    cur.execute(\"create table if not exists store (store_id int ,state varchar);\")\n",
    "except ps.Error as e:\n",
    "    print(\"Error : Creating store Issue\")\n",
    "    print(e)"
   ]
  },
  {
   "cell_type": "code",
   "execution_count": 16,
   "id": "f31a613b",
   "metadata": {},
   "outputs": [],
   "source": [
    "#insert int store table\n",
    "try:\n",
    "    cur.execute(\"insert into store (store_id,state)\\\n",
    "                 values (%s,%s)\",(1, \"CA\"))\n",
    "except ps.Error as e:\n",
    "    print(\"Error : Inserting Rows\")\n",
    "    print(e)\n",
    "    \n",
    "try:\n",
    "    cur.execute(\"insert into store (store_id,state)\\\n",
    "                 values (%s,%s)\", (2, \"WA\"))\n",
    "except ps.Error as e:\n",
    "    print(\"Error : Inserting Row\")\n",
    "    print(e)"
   ]
  },
  {
   "cell_type": "code",
   "execution_count": 17,
   "id": "2135be67",
   "metadata": {},
   "outputs": [],
   "source": [
    "# Create customer Table\n",
    "try:\n",
    "    cur.execute(\"create table if not exists customer (customer_id int,name varchar,rewards boolean);\")\n",
    "except ps.Error as e:\n",
    "    print(\"Error : Creating Table\")\n",
    "    print(e)"
   ]
  },
  {
   "cell_type": "code",
   "execution_count": 18,
   "id": "71659819",
   "metadata": {},
   "outputs": [],
   "source": [
    "#insert into customer table\n",
    "try:\n",
    "    cur.execute(\"insert into customer (customer_id,name,rewards)\\\n",
    "                 values (%s,%s,%s)\", (1, \"Amanda\", True))\n",
    "except ps.Error as e:\n",
    "    print(\"Error : Inserting rows\")\n",
    "    print(E)\n",
    "    \n",
    "try:\n",
    "    cur.execute(\"insert into customer (customer_id,name,rewards)\\\n",
    "                 values (%s,%s,%s)\",  (2, \"Toby\", False))\n",
    "except ps.Error as e:\n",
    "    print(\"Error : Inserting rows\")\n",
    "    print(E)\n",
    "        "
   ]
  },
  {
   "cell_type": "markdown",
   "id": "1ccff521",
   "metadata": {},
   "source": [
    "####  _Query 1_: Find all the customers that spent more than 30 dollars, who are they, what did they buy and if they are a rewards member"
   ]
  },
  {
   "cell_type": "code",
   "execution_count": 23,
   "id": "a94303c6",
   "metadata": {},
   "outputs": [
    {
     "name": "stdout",
     "output_type": "stream",
     "text": [
      "('Toby', 'Let It Be', False)\n"
     ]
    }
   ],
   "source": [
    "try:\n",
    "    cur.execute(\"\"\"\n",
    "            select name , item_name, rewards \n",
    "            from customer join customer_transactions on customer.customer_id = customer_transactions.customer_id\n",
    "            join items_purchased on customer_transactions.customer_id =items_purchased.customer_id\n",
    "            where spent > 30 ;\n",
    "    \"\"\")\n",
    "except ps.Error as e:\n",
    "    print(\"Error : Select\")\n",
    "    print(e)\n",
    "\n",
    "row = cur.fetchone()\n",
    "while row:\n",
    "    print(row)\n",
    "    row=cur.fetchone()"
   ]
  },
  {
   "cell_type": "markdown",
   "id": "8f7d9a90",
   "metadata": {},
   "source": [
    "#### _Query 2:_ How much did Store 1 sell?"
   ]
  },
  {
   "cell_type": "code",
   "execution_count": 25,
   "id": "b12001a1",
   "metadata": {},
   "outputs": [
    {
     "name": "stdout",
     "output_type": "stream",
     "text": [
      "(1, Decimal('55.71'))\n"
     ]
    }
   ],
   "source": [
    "try:\n",
    "    cur.execute(\"SELECT store_id, SUM(spent) FROM customer_transactions GROUP BY store_id;\")\n",
    "except ps.Error as e:\n",
    "    print(\"Error : Select \")\n",
    "    print(e)\n",
    "\n",
    "row = cur.fetchone()\n",
    "while row:\n",
    "    print(row)\n",
    "    row=cur.fetchone()"
   ]
  },
  {
   "cell_type": "markdown",
   "id": "15d52d5f",
   "metadata": {},
   "source": [
    "#### Drop All Tables"
   ]
  },
  {
   "cell_type": "code",
   "execution_count": 26,
   "id": "012046d2",
   "metadata": {},
   "outputs": [],
   "source": [
    "# Drop customer_transactions Table\n",
    "try: \n",
    "    cur.execute(\"DROP table customer_transactions\")\n",
    "except psycopg2.Error as e: \n",
    "    print(\"Error: Dropping table\")\n",
    "    print (e)\n",
    "# Drop items_purchased Table    \n",
    "try: \n",
    "    cur.execute(\"DROP table items_purchased\")\n",
    "except psycopg2.Error as e: \n",
    "    print(\"Error: Dropping table\")\n",
    "    print (e)\n",
    "# Drop customer Table \n",
    "try: \n",
    "    cur.execute(\"DROP table customer\")\n",
    "except psycopg2.Error as e: \n",
    "    print(\"Error: Dropping table\")\n",
    "    print (e)\n",
    "# Drop store Table       \n",
    "try: \n",
    "    cur.execute(\"DROP table store\")\n",
    "except psycopg2.Error as e: \n",
    "    print(\"Error: Dropping table\")\n",
    "    print (e)\n",
    "    "
   ]
  },
  {
   "cell_type": "code",
   "execution_count": 27,
   "id": "d2d97a21",
   "metadata": {},
   "outputs": [],
   "source": [
    "# Close cursor and connection\n",
    "cur.close()\n",
    "conn.close()"
   ]
  }
 ],
 "metadata": {
  "kernelspec": {
   "display_name": "Python 3",
   "language": "python",
   "name": "python3"
  },
  "language_info": {
   "codemirror_mode": {
    "name": "ipython",
    "version": 3
   },
   "file_extension": ".py",
   "mimetype": "text/x-python",
   "name": "python",
   "nbconvert_exporter": "python",
   "pygments_lexer": "ipython3",
   "version": "3.8.8"
  }
 },
 "nbformat": 4,
 "nbformat_minor": 5
}
