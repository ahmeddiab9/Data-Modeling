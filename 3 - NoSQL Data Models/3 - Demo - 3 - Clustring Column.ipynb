{
 "cells": [
  {
   "cell_type": "code",
   "execution_count": null,
   "id": "d201c52f",
   "metadata": {},
   "outputs": [],
   "source": [
    "#import Cassandra Library\n",
    "import cassandra\n",
    "from cassandra.cluster import Cluster"
   ]
  },
  {
   "cell_type": "code",
   "execution_count": null,
   "id": "2f2a24ce",
   "metadata": {},
   "outputs": [],
   "source": [
    "#Connect To Cassandra\n",
    "try:\n",
    "    cluster = Cluster([\"127.0.0.1\"])\n",
    "    session = cluster.connect()\n",
    "except Exception as e:\n",
    "    print(\"Error : Connect To Cassandra\")\n",
    "    print(e)"
   ]
  },
  {
   "cell_type": "code",
   "execution_count": null,
   "id": "4f7eb354",
   "metadata": {},
   "outputs": [],
   "source": [
    "#Create Udacity keySpace\n",
    "\n",
    "try:\n",
    "    session.execute(\"\"\"\n",
    "        create keyspace if not exists udacity\n",
    "        with replication = \n",
    "        {class : 'SimpleStrategy' , 'replication_factor' : 1}\n",
    "    \"\"\")\n",
    "except Exception  as e:\n",
    "    print(\"Error : Create udacity KeySpace\")\n",
    "    print(e)"
   ]
  },
  {
   "cell_type": "markdown",
   "id": "e3dc8658",
   "metadata": {},
   "source": [
    "### 1 - Give me every album in my music library that was released by an artist with album name in `DESC` order and city in `DESC` order\n",
    "`select * from music_library where artist_name = \"The Beatles\"`"
   ]
  },
  {
   "cell_type": "code",
   "execution_count": null,
   "id": "b02e880c",
   "metadata": {},
   "outputs": [],
   "source": [
    "# Create music_library Table\n",
    "query = \"\"\"\n",
    "    create table if not exists music_library\n",
    "    (year int,artist_name text,album_name text,city text,primary key(artist_name,album_name,city))\n",
    "\"\"\"\n",
    "try:\n",
    "    session.execute(query)\n",
    "except Exception as e:\n",
    "    print(\"Create music_library Table\")\n",
    "    print(e)"
   ]
  },
  {
   "cell_type": "code",
   "execution_count": null,
   "id": "b8daab35",
   "metadata": {},
   "outputs": [],
   "source": [
    "#insert Some Data to music_library table\n",
    "query = \"\"\"insert into music_library (year,artist_name,album_name,city)\n",
    "            values (%s,%s,%s,%s)\"\"\"\n",
    "try:\n",
    "    session.execute(query,(1970,\"The Beatles\",\"let it Be\",\"Liverpool\"))\n",
    "except Exception as e:\n",
    "    print(\"Error : Insert Row\")\n",
    "    print(e)\n",
    "    \n",
    "try:\n",
    "    session.execute(query,(1965,\"The Beatles\",\"Rubber Soul\",\"Oxford\"))\n",
    "except Exception as e:\n",
    "    print(\"Error : Insert Row\")\n",
    "    print(e)\n",
    "    \n",
    "try:\n",
    "    session.execute(query,(1965,\"The Who\",\"My Generation\",\"London\"))\n",
    "except Exception as e:\n",
    "    print(\"Error : Insert Row\")\n",
    "    print(e)\n",
    "    \n",
    "try:\n",
    "    session.execute(query,(1966,\"The Monkees\",\"The Monkees\",\"Los Angeles\"))\n",
    "except Exception as e:\n",
    "    print(\"Error : Insert Row\")\n",
    "    print(e)\n",
    "    \n",
    "try:\n",
    "    session.execute(query,(1970,\"The Carpenters\",\"Close To You\",\"San Digo\"))\n",
    "except Exception as e:\n",
    "    print(\"Error : Insert Row\")\n",
    "    print(e)"
   ]
  },
  {
   "cell_type": "code",
   "execution_count": null,
   "id": "796fa8ba",
   "metadata": {},
   "outputs": [],
   "source": [
    "#Validate Our Data Model\n",
    "query = \"select * from music_library where artist_name = 'The Beatles'\"\n",
    "try:\n",
    "    rows=session.execute(query)\n",
    "except Exception as e:\n",
    "    print(\"Error : Select Query\")\n",
    "    print(e)\n",
    "\n",
    "for row in rows:\n",
    "    print(row.artist_name,row.album_name,row.city,row.year)"
   ]
  },
  {
   "cell_type": "code",
   "execution_count": null,
   "id": "d42940b4",
   "metadata": {},
   "outputs": [],
   "source": [
    "#drop Table\n",
    "try:\n",
    "    session.execute(\"drop table music_library\")\n",
    "except Exception as e:\n",
    "    print(\"Error : Select Query\")\n",
    "    print(e)"
   ]
  },
  {
   "cell_type": "code",
   "execution_count": null,
   "id": "a38339ac",
   "metadata": {},
   "outputs": [],
   "source": [
    "#shutDown Cluster and Session Connection\n",
    "session.shutdown()\n",
    "cluster.shutdown()"
   ]
  }
 ],
 "metadata": {
  "kernelspec": {
   "display_name": "Python 3",
   "language": "python",
   "name": "python3"
  },
  "language_info": {
   "codemirror_mode": {
    "name": "ipython",
    "version": 3
   },
   "file_extension": ".py",
   "mimetype": "text/x-python",
   "name": "python",
   "nbconvert_exporter": "python",
   "pygments_lexer": "ipython3",
   "version": "3.8.8"
  }
 },
 "nbformat": 4,
 "nbformat_minor": 5
}
