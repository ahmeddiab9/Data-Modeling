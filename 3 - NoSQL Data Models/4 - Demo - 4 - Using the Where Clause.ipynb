{
 "cells": [
  {
   "cell_type": "code",
   "execution_count": null,
   "id": "4a5ceabd",
   "metadata": {},
   "outputs": [],
   "source": [
    "#import cassandra and cluster library\n",
    "import casssandra \n",
    "from cassandra.cluster import Cluster"
   ]
  },
  {
   "cell_type": "code",
   "execution_count": null,
   "id": "71be67f9",
   "metadata": {},
   "outputs": [],
   "source": [
    "# connect to cassandra \n",
    "try:\n",
    "    cluster = cluster([\"127.0.0.1\"])\n",
    "    session = cluster.connect()\n",
    "except Exception as e:\n",
    "    print(\"Error : Connect To Cassandra\")\n",
    "    print(e)"
   ]
  },
  {
   "cell_type": "code",
   "execution_count": null,
   "id": "b27fe7e3",
   "metadata": {},
   "outputs": [],
   "source": [
    "# Create KeySpace\n",
    "try:\n",
    "    session.execute(\"\"\"\n",
    "        create keyspace if not exists udacity\n",
    "        with replication = \n",
    "        {'class : 'SimpleStrategy','reolication_factor' : 1}\n",
    "    \"\"\")\n",
    "except Exception as e:\n",
    "    print(\"Error : Create KeySpace\")\n",
    "    print(e)"
   ]
  },
  {
   "cell_type": "code",
   "execution_count": null,
   "id": "cc2013c5",
   "metadata": {},
   "outputs": [],
   "source": [
    "# Set KeySpace\n",
    "try:\n",
    "    session.set_keyspace(\"udacity\")\n",
    "except Exception as e:\n",
    "    print(\"Error : Set KeySpace\")\n",
    "    print(e)"
   ]
  },
  {
   "cell_type": "code",
   "execution_count": null,
   "id": "e9089716",
   "metadata": {},
   "outputs": [],
   "source": [
    "# Create music_library Table\n",
    "query = \"\"\"\n",
    "    create table if not exists music_library\n",
    "    (year int,artist_name text,album_name text,city text)\n",
    "    primary key (year,artist_name,album_name)\n",
    "\"\"\"\n",
    "try:\n",
    "    session.execute(query)\n",
    "except Exception as e:\n",
    "    print(\"Error : Creating music_library Table\")\n",
    "    print(e)"
   ]
  },
  {
   "cell_type": "code",
   "execution_count": null,
   "id": "aec3a354",
   "metadata": {},
   "outputs": [],
   "source": [
    "#insert Some Data to music_library table\n",
    "query = \"\"\"insert into music_library (year,artist_name,album_name,city)\n",
    "            values (%s,%s,%s,%s)\"\"\"\n",
    "try:\n",
    "    session.execute(query,(1970,\"The Beatles\",\"let it Be\",\"Liverpool\"))\n",
    "except Exception as e:\n",
    "    print(\"Error : Insert Row\")\n",
    "    print(e)\n",
    "    \n",
    "try:\n",
    "    session.execute(query,(1965,\"The Beatles\",\"Rubber Soul\",\"Oxford\"))\n",
    "except Exception as e:\n",
    "    print(\"Error : Insert Row\")\n",
    "    print(e)\n",
    "    \n",
    "try:\n",
    "    session.execute(query,(1965,\"The Who\",\"My Generation\",\"London\"))\n",
    "except Exception as e:\n",
    "    print(\"Error : Insert Row\")\n",
    "    print(e)\n",
    "    \n",
    "try:\n",
    "    session.execute(query,(1966,\"The Monkees\",\"The Monkees\",\"Los Angeles\"))\n",
    "except Exception as e:\n",
    "    print(\"Error : Insert Row\")\n",
    "    print(e)\n",
    "    \n",
    "try:\n",
    "    session.execute(query,(1970,\"The Carpenters\",\"Close To You\",\"San Digo\"))\n",
    "except Exception as e:\n",
    "    print(\"Error : Insert Row\")\n",
    "    print(e)"
   ]
  },
  {
   "cell_type": "markdown",
   "id": "34e684d6",
   "metadata": {},
   "source": [
    "### 1. Give me every album in my music library that was released in given year ?"
   ]
  },
  {
   "cell_type": "code",
   "execution_count": null,
   "id": "584d61c5",
   "metadata": {},
   "outputs": [],
   "source": [
    "query = \"select * from music_library where year = 1970\"\n",
    "try:\n",
    "    rows = session.execute(query)\n",
    "except Exception as e:\n",
    "    print(\"Error : First Select\")\n",
    "    print(e)\n",
    "for row in rows:\n",
    "    print(row.year,row.artist_name,row.album_name,row.city)"
   ]
  },
  {
   "cell_type": "markdown",
   "id": "fbb108af",
   "metadata": {},
   "source": [
    "### 2. Give me the album that is in my music library that was released in iven year by \"The Beatles\""
   ]
  },
  {
   "cell_type": "code",
   "execution_count": null,
   "id": "994a48f0",
   "metadata": {},
   "outputs": [],
   "source": [
    "query = \"select * from music_library where year = 1970 and artist_name = 'The Beatles'\"\n",
    "try:\n",
    "    rows= session.execute(query)\n",
    "except Exception as e:\n",
    "    print(\"Error : Second Select\")\n",
    "    print(e)\n",
    "    \n",
    "for row in rows:\n",
    "    print(row.year,row.artist_name,row.album_name,row.city)"
   ]
  },
  {
   "cell_type": "markdown",
   "id": "70ba95e3",
   "metadata": {},
   "source": [
    "### 3. give me all the album released in a given year in give location"
   ]
  },
  {
   "cell_type": "code",
   "execution_count": null,
   "id": "7b51c5b8",
   "metadata": {},
   "outputs": [],
   "source": [
    "query = \"select * from music_library where year = 1970 and location ='lverpool'\"\n",
    "try:\n",
    "    rows=session.execute(query)\n",
    "except Exception as e:\n",
    "    print(\"Error Third Select\")\n",
    "    print(e)\n",
    "for row in rows:\n",
    "    print(row.year,row.artist_name,row.album_name,row.city)"
   ]
  },
  {
   "cell_type": "markdown",
   "id": "e9bafcc9",
   "metadata": {},
   "source": [
    "#### Erro Lets Try another Way"
   ]
  },
  {
   "cell_type": "markdown",
   "id": "07095215",
   "metadata": {},
   "source": [
    "### 4. give me city that the album \"Let It Be\" was recorded"
   ]
  },
  {
   "cell_type": "code",
   "execution_count": null,
   "id": "57ad0e78",
   "metadata": {},
   "outputs": [],
   "source": [
    "query = \"select city from music_library where year = 1970 and artist_name ='The Beatles' and album_name ='Let it Be'\"\n",
    "try:\n",
    "    rows = session.execute(query)\n",
    "except Exception as e:\n",
    "    print(\"Error : Last Query\")\n",
    "    print(e)\n",
    "\n",
    "for row in rows:\n",
    "    print(row.year,row.artist_name,row.album_name,row.city)"
   ]
  },
  {
   "cell_type": "code",
   "execution_count": null,
   "id": "3cf9df16",
   "metadata": {},
   "outputs": [],
   "source": [
    "# Drop Table \n",
    "try:\n",
    "    session.execute(\"drop table music_library\")\n",
    "except Exception as e:\n",
    "    print(\"Error : Drop Table\")\n",
    "    print(e)"
   ]
  },
  {
   "cell_type": "code",
   "execution_count": null,
   "id": "1afe6d81",
   "metadata": {},
   "outputs": [],
   "source": [
    "# ShutDown The Cluste And Session Connection\n",
    "cluster.shutdown()\n",
    "session.shutdown()"
   ]
  }
 ],
 "metadata": {
  "kernelspec": {
   "display_name": "Python 3",
   "language": "python",
   "name": "python3"
  },
  "language_info": {
   "codemirror_mode": {
    "name": "ipython",
    "version": 3
   },
   "file_extension": ".py",
   "mimetype": "text/x-python",
   "name": "python",
   "nbconvert_exporter": "python",
   "pygments_lexer": "ipython3",
   "version": "3.8.8"
  }
 },
 "nbformat": 4,
 "nbformat_minor": 5
}
