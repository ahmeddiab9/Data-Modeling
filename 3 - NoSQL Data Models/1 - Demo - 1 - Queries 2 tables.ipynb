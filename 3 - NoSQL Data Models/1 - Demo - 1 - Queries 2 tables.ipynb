{
 "cells": [
  {
   "cell_type": "code",
   "execution_count": null,
   "id": "20a74293",
   "metadata": {},
   "outputs": [],
   "source": [
    "#import apache cassandra package\n",
    "import cassandra"
   ]
  },
  {
   "cell_type": "code",
   "execution_count": null,
   "id": "b555ba84",
   "metadata": {},
   "outputs": [],
   "source": [
    "# Connect To Cassandra and Create Session\n",
    "from cassandra.cluster import Cluster\n",
    "try:\n",
    "    cluster = Cluster(['127.0.0.1'])\n",
    "    session = cluster.connect()\n",
    "except Exception as e:\n",
    "    print(\"Erro : Connection To Cassandra\")\n",
    "    print(e)"
   ]
  },
  {
   "cell_type": "code",
   "execution_count": null,
   "id": "92077910",
   "metadata": {},
   "outputs": [],
   "source": [
    "#Lets Create KeySpace to do Our Work in\n",
    "try:\n",
    "    session.execute(\"\"\"\n",
    "        create keyspace if not exists udacity\n",
    "        with replication=\n",
    "        {'class':'SimpleStrategy','replication_factor':1}\n",
    "    \"\"\")\n",
    "except Exception as e :\n",
    "    print(\"Error : Create KeySpace\")\n",
    "    print(e)"
   ]
  },
  {
   "cell_type": "code",
   "execution_count": null,
   "id": "fde4add3",
   "metadata": {},
   "outputs": [],
   "source": [
    "# Connect to KeySpace\n",
    "try:\n",
    "    session.set_keyspace(\"udacity\")\n",
    "except Exception as e:\n",
    "    print(\"connect To KeySpace\")\n",
    "    print(e)"
   ]
  },
  {
   "cell_type": "code",
   "execution_count": null,
   "id": "4d8d853e",
   "metadata": {},
   "outputs": [],
   "source": [
    "# Create Fisrt Table Music_library\n",
    "try:\n",
    "    query=\"\"\"\n",
    "        create table if not exists music_library\n",
    "        (year int,artist_name text,album_name text,PRIMARY KEY (year,artist_name))\n",
    "    \"\"\"\n",
    "    session.execute(query)\n",
    "except Exception as e:\n",
    "    print(\"Error : Creating music_library\")\n",
    "    print(e)"
   ]
  },
  {
   "cell_type": "code",
   "execution_count": null,
   "id": "a59b825f",
   "metadata": {},
   "outputs": [],
   "source": [
    "# Create Second Table album_library\n",
    "try:\n",
    "    query=\"\"\"\n",
    "        create table if not exsits album_library\n",
    "        (year int,artis_name text,album_name text PRIMARY KEY (artist_name,year))\n",
    "    \"\"\"\n",
    "    session.execute(query)\n",
    "except Exception as e :\n",
    "    print(\"Error : Creating album_library\")\n",
    "    print(e)"
   ]
  },
  {
   "cell_type": "code",
   "execution_count": 1,
   "id": "34cb9870",
   "metadata": {},
   "outputs": [],
   "source": [
    "#Insert Some Data music_library Table\n",
    "query = \"\"\"\n",
    "    insert into music_library (year,artist_name,album_name)\n",
    "                    values(%s,%s,%s)\n",
    "\"\"\"\n",
    "\n",
    "try:\n",
    "    session_execute(query,(1970,\"The Bearles\",\"Let it Be\"))\n",
    "except Exception as e:\n",
    "    print(e)\n",
    "\n",
    "try:\n",
    "    session_execute(query,(1965,\"The Beatles\",\"Rubber Soul\"))\n",
    "except Exception as e:\n",
    "    print(e)\n",
    "    \n",
    "try:\n",
    "    session_execute(query,(1965,\"The who\",\"My Generation\"))\n",
    "except Exception as e:\n",
    "    print(e)\n",
    "    \n",
    "try:\n",
    "    session_execute(query,(1966,\"The monkes\",\"The Monkes\"))\n",
    "except Exception as e:\n",
    "    print(e)\n",
    "    \n",
    "try:\n",
    "    session_execute(query,(1970,\"The Carpenters\",\"CLose to You\"))\n",
    "except Exception as e:\n",
    "    print(e)    "
   ]
  },
  {
   "cell_type": "code",
   "execution_count": null,
   "id": "8b6d5d8e",
   "metadata": {},
   "outputs": [],
   "source": [
    "# insert Some Data To album_library table\n",
    "query1 = \"\"\"\n",
    "    insert into album_library (artist_name,year,album_name)\n",
    "                    values(%s,%s,%s)    \n",
    "\"\"\"   \n",
    "\n",
    "\n",
    "try:\n",
    "    session_execute(query,(\"The Bearles\",1970,\"Let it Be\"))\n",
    "except Exception as e:\n",
    "    print(e)\n",
    "\n",
    "try:\n",
    "    session_execute(query,(\"The Beatles\",1965,\"Rubber Soul\"))\n",
    "except Exception as e:\n",
    "    print(e)\n",
    "    \n",
    "try:\n",
    "    session_execute(query,(\"The who\",1965,\"My Generation\"))\n",
    "except Exception as e:\n",
    "    print(e)\n",
    "    \n",
    "try:\n",
    "    session_execute(query,(\"The monkes\",1966,\"The Monkes\"))\n",
    "except Exception as e:\n",
    "    print(e)\n",
    "    \n",
    "try:\n",
    "    session_execute(query,(\"The Carpenters\",1970,\"CLose to You\"))\n",
    "except Exception as e:\n",
    "    print(e)    \n",
    " "
   ]
  },
  {
   "cell_type": "code",
   "execution_count": null,
   "id": "d0f778f6",
   "metadata": {},
   "outputs": [],
   "source": [
    "#validate our Data Model to select data from music_library\n",
    "query = \" select * from music_library where year=1970\"\n",
    "\n",
    "try:\n",
    "    rwos = session.execute(query)\n",
    "except Exception  as e:\n",
    "    print(\"Error : Select from music_library\")\n",
    "    \n",
    "for row in rows:\n",
    "    print(row.year,row.artist_name,row.album_name)"
   ]
  },
  {
   "cell_type": "code",
   "execution_count": null,
   "id": "6a26c163",
   "metadata": {},
   "outputs": [],
   "source": [
    "#validate our Data Model to select data from album_library\n",
    "query = \"select * from album_library where artist_name ='The Beatles'\"\n",
    "try:\n",
    "    rows = session.execute(query)\n",
    "except Exception as e:\n",
    "    print(\"Error : select data from album_library\")\n",
    "    print(e)\n",
    "    \n",
    "for row in rows:\n",
    "    print(row.artist_name,row.year,row.album_name)"
   ]
  },
  {
   "cell_type": "code",
   "execution_count": null,
   "id": "b1f319fe",
   "metadata": {},
   "outputs": [],
   "source": [
    "#Drop Tables\n",
    "try:\n",
    "    session.execute(\"drop table music_library\")\n",
    "except Exception as e:\n",
    "    print(\"Erro Drop Music_library Table\")\n",
    "    \n",
    "try:\n",
    "    session.execute(\"drop table album_library\")\n",
    "except Exception as e:\n",
    "    print(\"Erro Drop album_library Table\")    "
   ]
  },
  {
   "cell_type": "code",
   "execution_count": null,
   "id": "23cb26af",
   "metadata": {},
   "outputs": [],
   "source": [
    "#Close Session and Cluster Connection\n",
    "session.shutdown()\n",
    "cluster.shutdown()"
   ]
  }
 ],
 "metadata": {
  "kernelspec": {
   "display_name": "Python 3",
   "language": "python",
   "name": "python3"
  },
  "language_info": {
   "codemirror_mode": {
    "name": "ipython",
    "version": 3
   },
   "file_extension": ".py",
   "mimetype": "text/x-python",
   "name": "python",
   "nbconvert_exporter": "python",
   "pygments_lexer": "ipython3",
   "version": "3.8.8"
  }
 },
 "nbformat": 4,
 "nbformat_minor": 5
}
