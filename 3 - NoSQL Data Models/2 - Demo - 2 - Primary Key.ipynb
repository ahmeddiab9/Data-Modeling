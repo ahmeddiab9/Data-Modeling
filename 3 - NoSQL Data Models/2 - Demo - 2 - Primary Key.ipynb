{
 "cells": [
  {
   "cell_type": "code",
   "execution_count": null,
   "id": "f5643cc7",
   "metadata": {},
   "outputs": [],
   "source": [
    "#import Cassandra library\n",
    "import cassandra\n",
    "from cassandra.cluster import Cluster"
   ]
  },
  {
   "cell_type": "code",
   "execution_count": null,
   "id": "45a03106",
   "metadata": {},
   "outputs": [],
   "source": [
    "# Connect To Cassandra\n",
    "try:\n",
    "    cluster = Cluster(['127.0.0.1'])\n",
    "    session = cluster.connect()\n",
    "except Exception as e:\n",
    "    print(\"Error : Connect To Cassandra\")\n",
    "    print(e)"
   ]
  },
  {
   "cell_type": "code",
   "execution_count": null,
   "id": "ba440d31",
   "metadata": {},
   "outputs": [],
   "source": [
    "# Create KeySpace\n",
    "try:\n",
    "    session.execute(\"\"\"\n",
    "        create keyspace if not exists udacity\n",
    "        with replication = \n",
    "        {'class' : 'SimpleStrategy' , 'replication_factor' : 1}\n",
    "    \"\"\")\n",
    "except Exception as e:\n",
    "    print(\"Error : Create KeySpace\")\n",
    "    print(e)"
   ]
  },
  {
   "cell_type": "code",
   "execution_count": null,
   "id": "41c3b8db",
   "metadata": {},
   "outputs": [],
   "source": [
    "#Connect To Our KeySpace\n",
    "try:\n",
    "    session.set_keyspace(\"udacity\")\n",
    "except Exception as e:\n",
    "    print(\"Error : Set KeySpace\")\n",
    "    print(e)"
   ]
  },
  {
   "cell_type": "markdown",
   "id": "c5dfe699",
   "metadata": {},
   "source": [
    "### 1 - Give me ervery album in my music library that was released in a given year\n",
    "`select * from music_library where year=1970`"
   ]
  },
  {
   "cell_type": "code",
   "execution_count": null,
   "id": "02ad9fd9",
   "metadata": {},
   "outputs": [],
   "source": [
    "# Create music_library Table\n",
    "query = \"\"\"\n",
    "    create table if not exsits music_library\n",
    "    (year int,artist_name text,album_name text ,city text, primary key (year))\n",
    "\"\"\"\n",
    "try:\n",
    "    session.execute(query)\n",
    "except Exception as e:\n",
    "    print(\"Error : Create music_library Table\")\n",
    "    print(e)\n",
    "    "
   ]
  },
  {
   "cell_type": "code",
   "execution_count": null,
   "id": "17837aa3",
   "metadata": {},
   "outputs": [],
   "source": [
    "#insert our data into music_library table\n",
    "query = \"\"\"insert into music_library (year,artist_name,album_name,city)\n",
    "            values (%s,%s,%s,%s)\"\"\"\n",
    "try:\n",
    "    session.execute(query,(1970,\"The Beatles\",\"let it Be\",\"Liverpool\"))\n",
    "except Exception as e:\n",
    "    print(\"Error : Insert Row\")\n",
    "    print(e)\n",
    "    \n",
    "try:\n",
    "    session.execute(query,(1965,\"The Beatles\",\"Rubber Soul\",\"Oxford\"))\n",
    "except Exception as e:\n",
    "    print(\"Error : Insert Row\")\n",
    "    print(e)\n",
    "    \n",
    "try:\n",
    "    session.execute(query,(1965,\"The Who\",\"My Generation\",\"London\"))\n",
    "except Exception as e:\n",
    "    print(\"Error : Insert Row\")\n",
    "    print(e)\n",
    "    \n",
    "try:\n",
    "    session.execute(query,(1966,\"The Monkees\",\"The Monkees\",\"Los Angeles\"))\n",
    "except Exception as e:\n",
    "    print(\"Error : Insert Row\")\n",
    "    print(e)\n",
    "    \n",
    "try:\n",
    "    session.execute(query,(1970,\"The Carpenters\",\"Close To You\",\"San Digo\"))\n",
    "except Exception as e:\n",
    "    print(\"Error : Insert Row\")\n",
    "    print(e)"
   ]
  },
  {
   "cell_type": "code",
   "execution_count": null,
   "id": "113fb3ed",
   "metadata": {},
   "outputs": [],
   "source": [
    "# Lets Validate Our Data\n",
    "query = \"SELECT * FROM music_library\"\n",
    "\n",
    "try:\n",
    "    rows = session.execute(query)\n",
    "except Exception as e:\n",
    "    print(\"Error : select Query\")\n",
    "    print(e)\n",
    "    \n",
    "for row in rows:\n",
    "    print(row.year,row.artist_name,row.album_name,row.city)"
   ]
  },
  {
   "cell_type": "markdown",
   "id": "d2099579",
   "metadata": {},
   "source": [
    "### that didnt work out as planned why is that?because we did not craete a unique primary key"
   ]
  },
  {
   "cell_type": "code",
   "execution_count": null,
   "id": "c1b577c9",
   "metadata": {},
   "outputs": [],
   "source": [
    "# Create music_library Table\n",
    "query = \"\"\"\n",
    "    create table if not exsits music_library1\n",
    "    (year int,artist_name text,album_name text ,city text, primary key (year,album_name))\n",
    "\"\"\"\n",
    "try:\n",
    "    session.execute(query)\n",
    "except Exception as e:\n",
    "    print(\"Error : Create music_library Table\")\n",
    "    print(e)"
   ]
  },
  {
   "cell_type": "code",
   "execution_count": null,
   "id": "c19ab2a4",
   "metadata": {},
   "outputs": [],
   "source": [
    "#insert our data into music_library table\n",
    "query = \"\"\"insert into music_library1 (year,artist_name,album_name,city)\n",
    "            values (%s,%s,%s,%s)\"\"\"\n",
    "try:\n",
    "    session.execute(query,(1970,\"The Beatles\",\"let it Be\",\"Liverpool\"))\n",
    "except Exception as e:\n",
    "    print(\"Error : Insert Row\")\n",
    "    print(e)\n",
    "    \n",
    "try:\n",
    "    session.execute(query,(1965,\"The Beatles\",\"Rubber Soul\",\"Oxford\"))\n",
    "except Exception as e:\n",
    "    print(\"Error : Insert Row\")\n",
    "    print(e)\n",
    "    \n",
    "try:\n",
    "    session.execute(query,(1965,\"The Who\",\"My Generation\",\"London\"))\n",
    "except Exception as e:\n",
    "    print(\"Error : Insert Row\")\n",
    "    print(e)\n",
    "    \n",
    "try:\n",
    "    session.execute(query,(1966,\"The Monkees\",\"The Monkees\",\"Los Angeles\"))\n",
    "except Exception as e:\n",
    "    print(\"Error : Insert Row\")\n",
    "    print(e)\n",
    "    \n",
    "try:\n",
    "    session.execute(query,(1970,\"The Carpenters\",\"Close To You\",\"San Digo\"))\n",
    "except Exception as e:\n",
    "    print(\"Error : Insert Row\")\n",
    "    print(e)"
   ]
  },
  {
   "cell_type": "code",
   "execution_count": null,
   "id": "00256ee6",
   "metadata": {},
   "outputs": [],
   "source": [
    "# Lets Validate Our Data\n",
    "query = \"SELECT * FROM music_library1\"\n",
    "\n",
    "try:\n",
    "    rows = session.execute(query)\n",
    "except Exception as e:\n",
    "    print(\"Error : select Query\")\n",
    "    print(e)\n",
    "    \n",
    "for row in rows:\n",
    "    print(row.year,row.artist_name,row.album_name,row.city)"
   ]
  },
  {
   "cell_type": "code",
   "execution_count": null,
   "id": "6f432c46",
   "metadata": {},
   "outputs": [],
   "source": [
    "# Drop  music_library Table\n",
    "try:\n",
    "    session.execute(\"drop table music_library\")\n",
    "except Exception as e:\n",
    "    print(\"Error : Drop Table\")\n",
    "    print(e)"
   ]
  },
  {
   "cell_type": "code",
   "execution_count": null,
   "id": "4b0f0aed",
   "metadata": {},
   "outputs": [],
   "source": [
    "# Drop  music_library1 Table\n",
    "try:\n",
    "    session.execute(\"drop table music_library\")\n",
    "except Exception as e:\n",
    "    print(\"Error : Drop Table\")\n",
    "    print(e"
   ]
  },
  {
   "cell_type": "code",
   "execution_count": null,
   "id": "fdec1191",
   "metadata": {},
   "outputs": [],
   "source": [
    "# Shutdown Session and Cluster Connection\n",
    "cluster.shutdown()\n",
    "session.shutdown()"
   ]
  }
 ],
 "metadata": {
  "kernelspec": {
   "display_name": "Python 3",
   "language": "python",
   "name": "python3"
  },
  "language_info": {
   "codemirror_mode": {
    "name": "ipython",
    "version": 3
   },
   "file_extension": ".py",
   "mimetype": "text/x-python",
   "name": "python",
   "nbconvert_exporter": "python",
   "pygments_lexer": "ipython3",
   "version": "3.8.8"
  }
 },
 "nbformat": 4,
 "nbformat_minor": 5
}
